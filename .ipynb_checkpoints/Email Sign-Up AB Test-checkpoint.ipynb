{
 "cells": [
  {
   "cell_type": "markdown",
   "id": "9b8a9a80",
   "metadata": {},
   "source": [
    "# Business Objective:\n",
    "\n",
    "Urban Wear, a clothing brand, is preparing to launch its eCommerce store. In anticipation of the launch, the brand has set up a pre-launch page to collect emails from potential customers. The goal is to maximize the number of email sign-ups before the official launch. To achieve this, Urban Wear is conducting an A/B test to determine whether changing the color of the submit button on the sign-up form will result in more sign-ups.\n",
    "\n",
    "The control version of the pre-launch page features a blue submit button, while the treatment version features a green submit button. \n",
    "\n",
    "Task is to design, execute, and analyze the A/B test to help the product team decide which button color to use."
   ]
  },
  {
   "cell_type": "code",
   "execution_count": 1,
   "id": "6c6bc5fc",
   "metadata": {},
   "outputs": [],
   "source": [
    "# Importing the necessary libraries\n",
    "from datetime import datetime\n",
    "import random\n",
    "import math\n",
    "import pandas as pd\n",
    "import numpy as np\n",
    "import scipy.stats as stats\n",
    "import statsmodels.api as sm\n",
    "import matplotlib.pyplot as plt\n",
    "import matplotlib.dates as mdates\n",
    "from matplotlib.ticker import MultipleLocator\n",
    "from statsmodels.stats.power import TTestIndPower, tt_ind_solve_power\n",
    "from statsmodels.stats.weightstats import ttest_ind\n",
    "from statsmodels.stats.proportion import proportions_chisquare, confint_proportions_2indep\n",
    "\n",
    "# Disabling warnings\n",
    "from warnings import filterwarnings\n",
    "filterwarnings('ignore')\n",
    "\n",
    "# Setting seed for np random\n",
    "SEED = 145\n",
    "np.random.seed(SEED)"
   ]
  },
  {
   "cell_type": "code",
   "execution_count": 2,
   "id": "3b9972c2",
   "metadata": {},
   "outputs": [
    {
     "name": "stdout",
     "output_type": "stream",
     "text": [
      "Pretest Data Imported\n",
      "Test Data Imported\n"
     ]
    }
   ],
   "source": [
    "# Loading datasets\n",
    "pretest = pd.read_csv('pretest.csv')\n",
    "print('Pretest Data Imported')\n",
    "test = pd.read_csv('test.csv')\n",
    "print('Test Data Imported')\n",
    "\n",
    "# Setting date fields as datetime objects\n",
    "pretest['date'] = pd.to_datetime(pretest['date'])\n",
    "test['date'] = pd.to_datetime(test['date'])"
   ]
  }
 ],
 "metadata": {
  "kernelspec": {
   "display_name": "Python 3 (ipykernel)",
   "language": "python",
   "name": "python3"
  },
  "language_info": {
   "codemirror_mode": {
    "name": "ipython",
    "version": 3
   },
   "file_extension": ".py",
   "mimetype": "text/x-python",
   "name": "python",
   "nbconvert_exporter": "python",
   "pygments_lexer": "ipython3",
   "version": "3.11.5"
  }
 },
 "nbformat": 4,
 "nbformat_minor": 5
}
